{
 "cells": [
  {
   "cell_type": "markdown",
   "id": "4fc7d6f3",
   "metadata": {},
   "source": []
  },
  {
   "cell_type": "code",
   "execution_count": null,
   "id": "2f4d7300",
   "metadata": {},
   "outputs": [],
   "source": []
  },
  {
   "cell_type": "markdown",
   "id": "9d5b67e6",
   "metadata": {},
   "source": [
    "\n",
    "**Student Name**: [Aditya Chakravarthy]\n",
    "\n",
    "**Date**: [05/22/22]\n",
    "\n",
    "\n"
   ]
  },
  {
   "cell_type": "markdown",
   "id": "4f6612c8",
   "metadata": {},
   "source": [
    "Load the NYC Green Taxi Trip Records data directly from the URL into a data frame called tripdata_df."
   ]
  },
  {
   "cell_type": "code",
   "execution_count": 1,
   "id": "bdc2b376",
   "metadata": {},
   "outputs": [
    {
     "name": "stderr",
     "output_type": "stream",
     "text": [
      "/var/folders/nz/dg416w7d0f93zbgdp0t1rts00000gn/T/ipykernel_44490/4170364566.py:11: DtypeWarning: Columns (3) have mixed types. Specify dtype option on import or set low_memory=False.\n",
      "  tripdata_df = pd.read_csv(\"https://nyc-tlc.s3.amazonaws.com/csv_backup/green_tripdata_2019-12.csv\")\n"
     ]
    }
   ],
   "source": [
    "import pandas as pd\n",
    "import numpy as np\n",
    "from sklearn.tree import DecisionTreeRegressor\n",
    "from sklearn.ensemble import RandomForestRegressor\n",
    "from sklearn.model_selection import train_test_split\n",
    "from sklearn.metrics import mean_squared_error\n",
    "import matplotlib.pyplot as plt\n",
    "import seaborn as sns\n",
    "sns.set_style('darkgrid')\n",
    "\n",
    "tripdata_df = pd.read_csv(\"https://nyc-tlc.s3.amazonaws.com/csv_backup/green_tripdata_2019-12.csv\")"
   ]
  },
  {
   "cell_type": "markdown",
   "id": "85fe34b8",
   "metadata": {},
   "source": [
    "###  previous data preparation steps, EDA and visualizations."
   ]
  },
  {
   "cell_type": "code",
   "execution_count": 2,
   "id": "1f3dd04b",
   "metadata": {},
   "outputs": [
    {
     "name": "stdout",
     "output_type": "stream",
     "text": [
      "<class 'pandas.core.frame.DataFrame'>\n",
      "Int64Index: 359902 entries, 0 to 359901\n",
      "Data columns (total 20 columns):\n",
      " #   Column                 Non-Null Count   Dtype  \n",
      "---  ------                 --------------   -----  \n",
      " 0   VendorID               359902 non-null  float64\n",
      " 1   lpep_pickup_datetime   359902 non-null  object \n",
      " 2   lpep_dropoff_datetime  359902 non-null  object \n",
      " 3   store_and_fwd_flag     359902 non-null  object \n",
      " 4   RatecodeID             359902 non-null  float64\n",
      " 5   PULocationID           359902 non-null  int64  \n",
      " 6   DOLocationID           359902 non-null  int64  \n",
      " 7   passenger_count        359902 non-null  float64\n",
      " 8   trip_distance          359902 non-null  float64\n",
      " 9   fare_amount            359902 non-null  float64\n",
      " 10  extra                  359902 non-null  float64\n",
      " 11  mta_tax                359902 non-null  float64\n",
      " 12  tip_amount             359902 non-null  float64\n",
      " 13  tolls_amount           359902 non-null  float64\n",
      " 14  ehail_fee              0 non-null       float64\n",
      " 15  improvement_surcharge  359900 non-null  float64\n",
      " 16  total_amount           359902 non-null  float64\n",
      " 17  payment_type           359902 non-null  float64\n",
      " 18  trip_type              359900 non-null  float64\n",
      " 19  congestion_surcharge   359900 non-null  float64\n",
      "dtypes: float64(15), int64(2), object(3)\n",
      "memory usage: 57.7+ MB\n",
      "None\n",
      "VendorID                 0\n",
      "lpep_pickup_datetime     0\n",
      "lpep_dropoff_datetime    0\n",
      "store_and_fwd_flag       0\n",
      "RatecodeID               0\n",
      "PULocationID             0\n",
      "DOLocationID             0\n",
      "passenger_count          0\n",
      "trip_distance            0\n",
      "fare_amount              0\n",
      "extra                    0\n",
      "mta_tax                  0\n",
      "tip_amount               0\n",
      "tolls_amount             0\n",
      "improvement_surcharge    2\n",
      "total_amount             0\n",
      "payment_type             0\n",
      "trip_type                2\n",
      "congestion_surcharge     2\n",
      "dtype: int64\n",
      " 0.30    353388\n",
      " 0.00      5475\n",
      "-0.30      1036\n",
      " NaN          2\n",
      " 0.17         1\n",
      "Name: improvement_surcharge, dtype: int64\n",
      "Empty DataFrame\n",
      "Columns: [VendorID, lpep_pickup_datetime, lpep_dropoff_datetime, store_and_fwd_flag, RatecodeID, PULocationID, DOLocationID, passenger_count, trip_distance, fare_amount, extra, mta_tax, tip_amount, tolls_amount, improvement_surcharge, total_amount, payment_type, trip_type, congestion_surcharge]\n",
      "Index: []\n",
      "VendorID                 0\n",
      "lpep_pickup_datetime     0\n",
      "lpep_dropoff_datetime    0\n",
      "store_and_fwd_flag       0\n",
      "RatecodeID               0\n",
      "PULocationID             0\n",
      "DOLocationID             0\n",
      "passenger_count          0\n",
      "trip_distance            0\n",
      "fare_amount              0\n",
      "extra                    0\n",
      "mta_tax                  0\n",
      "tip_amount               0\n",
      "tolls_amount             0\n",
      "improvement_surcharge    0\n",
      "total_amount             0\n",
      "payment_type             0\n",
      "trip_type                0\n",
      "congestion_surcharge     0\n",
      "dtype: int64\n",
      "<class 'pandas.core.frame.DataFrame'>\n",
      "Int64Index: 342397 entries, 1 to 359901\n",
      "Data columns (total 19 columns):\n",
      " #   Column                 Non-Null Count   Dtype  \n",
      "---  ------                 --------------   -----  \n",
      " 0   VendorID               342397 non-null  string \n",
      " 1   lpep_pickup_datetime   342397 non-null  object \n",
      " 2   lpep_dropoff_datetime  342397 non-null  object \n",
      " 3   store_and_fwd_flag     342397 non-null  string \n",
      " 4   RatecodeID             342397 non-null  int64  \n",
      " 5   PULocationID           342397 non-null  int64  \n",
      " 6   DOLocationID           342397 non-null  int64  \n",
      " 7   passenger_count        342397 non-null  int64  \n",
      " 8   trip_distance          342397 non-null  float64\n",
      " 9   fare_amount            342397 non-null  float64\n",
      " 10  extra                  342397 non-null  float64\n",
      " 11  mta_tax                342397 non-null  float64\n",
      " 12  tip_amount             342397 non-null  float64\n",
      " 13  tolls_amount           342397 non-null  float64\n",
      " 14  improvement_surcharge  342397 non-null  float64\n",
      " 15  total_amount           342397 non-null  float64\n",
      " 16  payment_type           342397 non-null  int64  \n",
      " 17  trip_type              342397 non-null  int64  \n",
      " 18  congestion_surcharge   342397 non-null  float64\n",
      "dtypes: float64(9), int64(6), object(2), string(2)\n",
      "memory usage: 52.2+ MB\n",
      "None\n"
     ]
    }
   ],
   "source": [
    "tripdata_df = tripdata_df[tripdata_df.isnull().sum(axis=1) < 6] #delete all rows with 6 or more missing variables in \n",
    "# each row\n",
    "print(tripdata_df.info())\n",
    "del tripdata_df[\"ehail_fee\"] #delete ehail_fee column because it has no values or data\n",
    "print(tripdata_df.isnull().sum())\n",
    "print(tripdata_df[\"improvement_surcharge\"].value_counts(dropna = False)) #shows that 0.30 is the most common value\n",
    "tripdata_df[tripdata_df[\"improvement_surcharge\"].isna()] = float(0.30) #replace NaN with 0.30\n",
    "print(tripdata_df[tripdata_df[\"improvement_surcharge\"].isna()]) #Shows no more NaN values\n",
    "print(tripdata_df.isnull().sum()) #shows that are no more null and empty values in entire dataframe\n",
    "\n",
    "#The following code fixes the data types\n",
    "tripdata_df[\"VendorID\"] = tripdata_df[\"VendorID\"].astype(\"string\")\n",
    "tripdata_df[\"RatecodeID\"] = tripdata_df[\"RatecodeID\"].astype(\"int\")\n",
    "tripdata_df[\"PULocationID\"] = tripdata_df[\"PULocationID\"].astype(\"int\")\n",
    "tripdata_df[\"DOLocationID\"] = tripdata_df[\"DOLocationID\"].astype(\"int\")\n",
    "tripdata_df[\"store_and_fwd_flag\"] = tripdata_df[\"store_and_fwd_flag\"].astype(\"string\")\n",
    "tripdata_df[\"passenger_count\"] = tripdata_df[\"passenger_count\"].astype(\"int\")\n",
    "tripdata_df[\"payment_type\"] = tripdata_df[\"payment_type\"].astype(\"int\")\n",
    "tripdata_df[\"trip_type\"] = tripdata_df[\"trip_type\"].astype(\"int\")\n",
    "\n",
    "\n",
    "tripdata_df = tripdata_df[tripdata_df[\"trip_distance\"] > 0] #Deletes rows where trip distance is negative. \n",
    "tripdata_df = tripdata_df[tripdata_df[\"fare_amount\"] > 0] #Deletes rows where fair amount is negative. We now have \n",
    "# around 347,000 entrie\n",
    "tripdata_df = tripdata_df[tripdata_df[\"trip_type\"] > 0] #Deletes rows where trip type was 0. This data is invalid and \n",
    "# should be removed because trips can only be one or two. \n",
    "tripdata_df = tripdata_df[tripdata_df[\"improvement_surcharge\"] > 0] #Deletes rows where surcharge was negative. This data is invalid. \n",
    "#tripdata_df[tripdata_df[\"trip_type\"].isna()] = \"1\" #Use imputation to change NaN values to 1 since that is over 90% of the data\n",
    "\n",
    "\n",
    "tripdata_df.drop_duplicates(inplace = True)\n",
    "\n",
    "print(tripdata_df.info()) \n"
   ]
  },
  {
   "cell_type": "markdown",
   "id": "5be662fb",
   "metadata": {},
   "source": [
    "### Visualizations"
   ]
  },
  {
   "cell_type": "code",
   "execution_count": null,
   "id": "cac27bdb",
   "metadata": {},
   "outputs": [],
   "source": [
    "top_five = tripdata_df[\"DOLocationID\"].value_counts().head(5)\n",
    "print(top_five.plot(kind = \"bar\"))"
   ]
  },
  {
   "cell_type": "code",
   "execution_count": null,
   "id": "3bf98e9e",
   "metadata": {},
   "outputs": [],
   "source": [
    "top_two = tripdata_df[\"trip_type\"].value_counts().head(3)\n",
    "print(top_two.plot(kind = \"bar\"))"
   ]
  },
  {
   "cell_type": "markdown",
   "id": "74e9dc30",
   "metadata": {},
   "source": [
    "\n",
    "The first bar graph shows that the most popular drop off location is is the location ID 74 with over 15,000 trips \n",
    "having this location has its destination. The DOLocationID 42 and 41 also had a lot of people dropping off at this \n",
    "location as both had over 13,000 drop offs. \n",
    "The most common way New Yorkers request cabs is through street-hail. This is what the number one represents according\n",
    "to the dictionary. This won by an overwhelming majority as under 10,000 call a taxi through 2 (Dispatch). However,\n",
    "over 330,000 people called a taxi through street-hail."
   ]
  },
  {
   "cell_type": "markdown",
   "id": "a231eaf4",
   "metadata": {},
   "source": []
  },
  {
   "cell_type": "code",
   "execution_count": null,
   "id": "c726d097",
   "metadata": {},
   "outputs": [],
   "source": [
    "X   = tripdata_df[['fare_amount', 'total_amount', 'extra', 'trip_type', 'payment_type']] #get the input features\n",
    "y   = tripdata_df['tip_amount']              #get the target"
   ]
  },
  {
   "cell_type": "markdown",
   "id": "7f1a6c6c",
   "metadata": {},
   "source": [
    "I chose the fare amount and total amount feature because it is common for people to tip as a percentage of the bill. So usually if the bill is a higher than the tip is also larger. I also chose the payment type as a feature because someone might tip less if the payment type is cash (if they don't have suffucient funds). Extra fees are another variable that contribute to the total bill and could affect the tip. If the individual is hit with a lot of extra fees they would be less inclined to leave a tip. The trip type might also affect the tip. People who street-hail are more in a hurry and might be inclined to tip more due to the spontenous event. "
   ]
  },
  {
   "cell_type": "markdown",
   "id": "4b298aa9",
   "metadata": {},
   "source": [
    "### Model to Predict Tip Amount"
   ]
  },
  {
   "cell_type": "code",
   "execution_count": 3,
   "id": "2dcfe043",
   "metadata": {},
   "outputs": [],
   "source": [
    "X_train, X_test, y_train, y_test = train_test_split(X,              #the input features\n",
    "                                                    y,              #the label\n",
    "                                                    test_size=0.3,  #set aside 30% of the data as the test set\n",
    "                                                    random_state=7 #reproduce the results\n",
    "                                                   )"
   ]
  },
  {
   "cell_type": "code",
   "execution_count": 38,
   "id": "0ec3e9bd",
   "metadata": {},
   "outputs": [
    {
     "name": "stdout",
     "output_type": "stream",
     "text": [
      "The predicted tip amount is: [0.   1.24 3.16 ... 0.   0.   0.  ]\n"
     ]
    }
   ],
   "source": [
    "rf = RandomForestRegressor(random_state=7)\n",
    "rf.fit(X_train, y_train)\n",
    "\n",
    "y_pred = rf.predict(X_test)\n",
    "print('The predicted tip amount is: {}'.format(y_pred))"
   ]
  },
  {
   "cell_type": "code",
   "execution_count": 39,
   "id": "b7ac1376",
   "metadata": {},
   "outputs": [
    {
     "name": "stdout",
     "output_type": "stream",
     "text": [
      "The mse of the model is: 0.5352375650054331\n"
     ]
    }
   ],
   "source": [
    "mse = mean_squared_error(y_test, y_pred)\n",
    "\n",
    "# Evaluate the Predictions\n",
    "print('The mse of the model is: {}'.format(mse))\n",
    "# we dont want to overfit the data. 0-5. \n"
   ]
  },
  {
   "cell_type": "markdown",
   "id": "5e0ab545",
   "metadata": {},
   "source": [
    "#### Results and Predictions of Model"
   ]
  },
  {
   "cell_type": "markdown",
   "id": "80ee73cc",
   "metadata": {},
   "source": [
    "I believe the model produced some relatively accurage predictions. This is evident through the mean squred error which was only 0.53. This is a relatively low number which illustrates that our model does a good job of predicting the tip amount. It's also important to notice the mse isn't too small. "
   ]
  },
  {
   "cell_type": "markdown",
   "id": "23bc28ed",
   "metadata": {},
   "source": [
    "### Try at least three different values for the n_estimators parameter "
   ]
  },
  {
   "cell_type": "code",
   "execution_count": 33,
   "id": "7736bb63",
   "metadata": {},
   "outputs": [
    {
     "name": "stdout",
     "output_type": "stream",
     "text": [
      "The mse of the model is: 0.549743365244597\n"
     ]
    }
   ],
   "source": [
    "rf = RandomForestRegressor(random_state=7, n_estimators = 150)\n",
    "rf.fit(X_train, y_train)\n",
    "\n",
    "y_pred = rf.predict(X_test)\n",
    "mse_150 = mean_squared_error(y_test, y_pred)\n",
    "print('The mse of the model is: {}'.format(mse_150))"
   ]
  },
  {
   "cell_type": "code",
   "execution_count": 34,
   "id": "3428fe7f",
   "metadata": {},
   "outputs": [
    {
     "name": "stdout",
     "output_type": "stream",
     "text": [
      "The mse of the model is: 0.5622190517686916\n"
     ]
    }
   ],
   "source": [
    "rf = RandomForestRegressor(random_state=7, n_estimators = 200)\n",
    "rf.fit(X_train, y_train)\n",
    "\n",
    "y_pred = rf.predict(X_test)\n",
    "mse_200 = mean_squared_error(y_test, y_pred)\n",
    "print('The mse of the model is: {}'.format(mse_200))"
   ]
  },
  {
   "cell_type": "code",
   "execution_count": 35,
   "id": "a7cca351",
   "metadata": {},
   "outputs": [
    {
     "name": "stdout",
     "output_type": "stream",
     "text": [
      "The mse of the model is: 0.4919259935612159\n"
     ]
    }
   ],
   "source": [
    "rf = RandomForestRegressor(random_state=7, n_estimators = 50)\n",
    "rf.fit(X_train, y_train)\n",
    "\n",
    "y_pred = rf.predict(X_test)\n",
    "mse_50 = mean_squared_error(y_test, y_pred)\n",
    "print('The mse of the model is: {}'.format(mse_50))"
   ]
  },
  {
   "cell_type": "code",
   "execution_count": 37,
   "id": "e86f811e",
   "metadata": {},
   "outputs": [
    {
     "name": "stdout",
     "output_type": "stream",
     "text": [
      "The mse of the model is: 0.5033012949195065\n"
     ]
    }
   ],
   "source": [
    "rf = RandomForestRegressor(random_state=7, n_estimators = 25)\n",
    "rf.fit(X_train, y_train)\n",
    "\n",
    "y_pred = rf.predict(X_test)\n",
    "mse_25 = mean_squared_error(y_test, y_pred)\n",
    "print('The mse of the model is: {}'.format(mse_25))"
   ]
  },
  {
   "cell_type": "markdown",
   "id": "4608abdd",
   "metadata": {},
   "source": [
    "The default value for n_estimators is 100. Therefor, I experimented with values both above and below this benchmark and found that the lower numbered estimators produced more accurate results. Because the results are more accurate I would feel more confident in the model that uses 25 as the n-estimator. It is accurate and does a good job of predicting the tip amount. However it is important not to go too low as this will increase the mse once again. An n-estimator = 10 yields a 0.61 mse. \n"
   ]
  },
  {
   "cell_type": "markdown",
   "id": "dc68e73c",
   "metadata": {},
   "source": [
    "### The Random forest has a method that returns the importance of each feature in the model. Exploring which selected features were the most important when making the predictions. Visualizing the feature importance."
   ]
  },
  {
   "cell_type": "code",
   "execution_count": 50,
   "id": "6b9f8a93",
   "metadata": {},
   "outputs": [
    {
     "data": {
      "text/plain": [
       "array([0.20439575, 0.52404493, 0.01601245, 0.00151537, 0.2540315 ])"
      ]
     },
     "execution_count": 50,
     "metadata": {},
     "output_type": "execute_result"
    }
   ],
   "source": [
    "rf.feature_importances_"
   ]
  },
  {
   "cell_type": "code",
   "execution_count": 52,
   "id": "e792ba07",
   "metadata": {},
   "outputs": [
    {
     "data": {
      "text/plain": [
       "<BarContainer object of 5 artists>"
      ]
     },
     "execution_count": 52,
     "metadata": {},
     "output_type": "execute_result"
    },
    {
     "data": {
      "image/png": "[encoded data removed]",
      "text/plain": [
       "<Figure size 432x288 with 1 Axes>"
      ]
     },
     "metadata": {},
     "output_type": "display_data"
    }
   ],
   "source": [
    "plt.barh(['fare_amount', 'total_amount', 'extra', 'trip_type', 'payment_type'], rf.feature_importances_)     "
   ]
  },
  {
   "cell_type": "markdown",
   "id": "59629e30",
   "metadata": {},
   "source": [
    "According to the above graph, the total_amount, payment_type, and fare_amount are the most important features when making predictions. "
   ]
  },
  {
   "cell_type": "code",
   "execution_count": 45,
   "id": "fa968593",
   "metadata": {},
   "outputs": [
    {
     "data": {
      "text/plain": [
       "array([ True,  True, False, False,  True])"
      ]
     },
     "execution_count": 45,
     "metadata": {},
     "output_type": "execute_result"
    }
   ],
   "source": []
  }
 ],
 "metadata": {
  "kernelspec": {
   "display_name": "Python 3 (ipykernel)",
   "language": "python",
   "name": "python3"
  },
  "language_info": {
   "codemirror_mode": {
    "name": "ipython",
    "version": 3
   },
   "file_extension": ".py",
   "mimetype": "text/x-python",
   "name": "python",
   "nbconvert_exporter": "python",
   "pygments_lexer": "ipython3",
   "version": "3.9.12"
  }
 },
 "nbformat": 4,
 "nbformat_minor": 5
}
